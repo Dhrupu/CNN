{
  "nbformat": 4,
  "nbformat_minor": 0,
  "metadata": {
    "colab": {
      "provenance": [],
      "mount_file_id": "17pKB3E241dFLhZ40GoobsZz-379-n7MW",
      "authorship_tag": "ABX9TyNGUXK/eYfEBaWCG9c3dipO",
      "include_colab_link": true
    },
    "kernelspec": {
      "name": "python3",
      "display_name": "Python 3"
    },
    "language_info": {
      "name": "python"
    }
  },
  "cells": [
    {
      "cell_type": "markdown",
      "metadata": {
        "id": "view-in-github",
        "colab_type": "text"
      },
      "source": [
        "<a href=\"https://colab.research.google.com/github/Dhrupu/CNN/blob/main/Boosted_Tree.ipynb\" target=\"_parent\"><img src=\"https://colab.research.google.com/assets/colab-badge.svg\" alt=\"Open In Colab\"/></a>"
      ]
    },
    {
      "cell_type": "code",
      "source": [
        "import numpy as np\n",
        "import os\n",
        "import cv2\n",
        "import random\n",
        "import matplotlib.pyplot as plt\n",
        "from sklearn.ensemble import GradientBoostingClassifier\n",
        "from sklearn.model_selection import train_test_split, RandomizedSearchCV\n",
        "from sklearn.metrics import accuracy_score, classification_report, precision_score, recall_score, f1_score\n",
        "from sklearn.decomposition import PCA\n",
        "from tensorflow.keras.applications import VGG16\n",
        "from tensorflow.keras.models import Model"
      ],
      "metadata": {
        "id": "NL9FWU2kpJWj"
      },
      "execution_count": null,
      "outputs": []
    },
    {
      "cell_type": "code",
      "source": [
        "# Define image size\n",
        "IMG_SIZE = (128, 128)\n",
        "\n",
        "# Load images and extract features\n",
        "def load_images_and_labels(data_dir, classes):\n",
        "    X, y = [], []\n",
        "\n",
        "    for label, class_name in enumerate(classes):\n",
        "        class_dir = os.path.join(data_dir, class_name)\n",
        "        for img_name in os.listdir(class_dir):\n",
        "            img_path = os.path.join(class_dir, img_name)\n",
        "            try:\n",
        "                img = cv2.imread(img_path)\n",
        "                img = cv2.resize(img, IMG_SIZE)\n",
        "                X.append(img)\n",
        "                y.append(label)\n",
        "            except Exception as e:\n",
        "                print(f\"Error loading image {img_name}: {e}\")\n",
        "                continue\n",
        "\n",
        "    return np.array(X), np.array(y)\n"
      ],
      "metadata": {
        "id": "eGT4YIEupTmD"
      },
      "execution_count": null,
      "outputs": []
    },
    {
      "cell_type": "code",
      "source": [
        "# Set dataset paths\n",
        "train_dir = \"/content/drive/MyDrive/guava dataset/GuavaDiseaseDataset/train\"\n",
        "val_dir = \"/content/drive/MyDrive/guava dataset/GuavaDiseaseDataset/val\"\n"
      ],
      "metadata": {
        "id": "JbcAbtRrpXT9"
      },
      "execution_count": null,
      "outputs": []
    },
    {
      "cell_type": "code",
      "source": [
        "# Get class labels\n",
        "classes = os.listdir(train_dir)\n",
        "\n",
        "# Load train and validation data\n",
        "X_train, y_train = load_images_and_labels(train_dir, classes)\n",
        "X_val, y_val = load_images_and_labels(val_dir, classes)\n",
        "\n",
        "# Normalize image data\n",
        "X_train = X_train / 255.0\n",
        "X_val = X_val / 255.0\n"
      ],
      "metadata": {
        "id": "1Q2KQOoFpgKL"
      },
      "execution_count": null,
      "outputs": []
    },
    {
      "cell_type": "code",
      "source": [
        "# Feature Extraction using VGG16 (Pretrained CNN)\n",
        "base_model = VGG16(weights=\"imagenet\", include_top=False, input_shape=(128, 128, 3))\n",
        "feature_extractor = Model(inputs=base_model.input, outputs=base_model.output)\n"
      ],
      "metadata": {
        "colab": {
          "base_uri": "https://localhost:8080/"
        },
        "id": "ZU-9OP_SpjgL",
        "outputId": "8aaea6a8-1cf5-4a50-d8d7-1e7d89d03085"
      },
      "execution_count": null,
      "outputs": [
        {
          "output_type": "stream",
          "name": "stdout",
          "text": [
            "Downloading data from https://storage.googleapis.com/tensorflow/keras-applications/vgg16/vgg16_weights_tf_dim_ordering_tf_kernels_notop.h5\n",
            "\u001b[1m58889256/58889256\u001b[0m \u001b[32m━━━━━━━━━━━━━━━━━━━━\u001b[0m\u001b[37m\u001b[0m \u001b[1m0s\u001b[0m 0us/step\n"
          ]
        }
      ]
    },
    {
      "cell_type": "code",
      "source": [
        "# Extract features\n",
        "X_train_features = feature_extractor.predict(X_train)\n",
        "X_val_features = feature_extractor.predict(X_val)"
      ],
      "metadata": {
        "colab": {
          "base_uri": "https://localhost:8080/"
        },
        "id": "KSKhdf4JrTJr",
        "outputId": "beaacdd0-fbec-4396-a9a2-e9a16d14c33c"
      },
      "execution_count": null,
      "outputs": [
        {
          "output_type": "stream",
          "name": "stdout",
          "text": [
            "\u001b[1m83/83\u001b[0m \u001b[32m━━━━━━━━━━━━━━━━━━━━\u001b[0m\u001b[37m\u001b[0m \u001b[1m494s\u001b[0m 6s/step\n",
            "\u001b[1m24/24\u001b[0m \u001b[32m━━━━━━━━━━━━━━━━━━━━\u001b[0m\u001b[37m\u001b[0m \u001b[1m143s\u001b[0m 6s/step\n"
          ]
        }
      ]
    },
    {
      "cell_type": "code",
      "source": [
        "# Flatten features for Gradient Boosting\n",
        "X_train_features = X_train_features.reshape(X_train_features.shape[0], -1)\n",
        "X_val_features = X_val_features.reshape(X_val_features.shape[0], -1)\n"
      ],
      "metadata": {
        "id": "v4YbLyrirV2j"
      },
      "execution_count": null,
      "outputs": []
    },
    {
      "cell_type": "code",
      "source": [
        "# Dimensionality reduction using PCA\n",
        "pca = PCA(n_components=100)  # Reduce to 100 components (can adjust)\n",
        "X_train_features_pca = pca.fit_transform(X_train_features)\n",
        "X_val_features_pca = pca.transform(X_val_features)"
      ],
      "metadata": {
        "id": "E79n5slfrYLK"
      },
      "execution_count": null,
      "outputs": []
    },
    {
      "cell_type": "code",
      "source": [
        "\n",
        "# Define the hyperparameters and distributions to sample from\n",
        "param_dist = {\n",
        "    'n_estimators': [50, 100, 200],\n",
        "    'learning_rate': [0.01, 0.1, 0.2],\n",
        "    'max_depth': [3, 5, 7]\n",
        "}\n",
        "\n",
        "# Initialize the model and RandomizedSearchCV\n",
        "gbm_random_search = RandomizedSearchCV(GradientBoostingClassifier(), param_distributions=param_dist, n_iter=10, cv=3, scoring='accuracy', random_state=42, n_jobs=-1)\n",
        "\n",
        "# Fit the model\n",
        "gbm_random_search.fit(X_train_features_pca, y_train)\n",
        "\n",
        "# Best model and parameters\n",
        "best_gbm_random = gbm_random_search.best_estimator_\n",
        "print(f\"Best Parameters (Randomized Search): {gbm_random_search.best_params_}\")\n",
        "\n",
        "# Predict on validation data\n",
        "y_pred = best_gbm_random.predict(X_val_features_pca)\n"
      ],
      "metadata": {
        "colab": {
          "base_uri": "https://localhost:8080/"
        },
        "id": "5fisTw3irand",
        "outputId": "a9d5ce50-680e-496c-dde7-91ad9f454bc9"
      },
      "execution_count": null,
      "outputs": [
        {
          "output_type": "stream",
          "name": "stdout",
          "text": [
            "Best Parameters (Randomized Search): {'n_estimators': 200, 'max_depth': 3, 'learning_rate': 0.1}\n"
          ]
        }
      ]
    },
    {
      "cell_type": "code",
      "source": [
        "\n",
        "# Evaluate the model\n",
        "accuracy = accuracy_score(y_val, y_pred)\n",
        "precision = precision_score(y_val, y_pred, average='weighted')  # Weighted for class imbalance\n",
        "recall = recall_score(y_val, y_pred, average='weighted')\n",
        "f1 = f1_score(y_val, y_pred, average='weighted')\n",
        "\n",
        "# Print Evaluation Metrics\n",
        "print(f\"Validation Accuracy: {accuracy:.4f}\")\n",
        "print(f\"Precision: {precision:.4f}\")\n",
        "print(f\"Recall: {recall:.4f}\")\n",
        "print(f\"F1 Score: {f1:.4f}\")\n",
        "\n",
        "# Detailed classification report\n",
        "print(\"\\nClassification Report:\")\n",
        "print(classification_report(y_val, y_pred, target_names=classes))"
      ],
      "metadata": {
        "colab": {
          "base_uri": "https://localhost:8080/"
        },
        "id": "qUaiPI5krdtT",
        "outputId": "4d394c06-fa38-4b32-d558-46873ee8af81"
      },
      "execution_count": null,
      "outputs": [
        {
          "output_type": "stream",
          "name": "stdout",
          "text": [
            "Validation Accuracy: 0.9219\n",
            "Precision: 0.9218\n",
            "Recall: 0.9219\n",
            "F1 Score: 0.9218\n",
            "\n",
            "Classification Report:\n",
            "               precision    recall  f1-score   support\n",
            "\n",
            "    fruit_fly       0.91      0.89      0.90       262\n",
            "healthy_guava       0.90      0.92      0.91       185\n",
            "  Anthracnose       0.94      0.95      0.94       308\n",
            "\n",
            "     accuracy                           0.92       755\n",
            "    macro avg       0.92      0.92      0.92       755\n",
            " weighted avg       0.92      0.92      0.92       755\n",
            "\n"
          ]
        }
      ]
    }
  ]
}